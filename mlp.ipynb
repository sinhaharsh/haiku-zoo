{
  "cells": [
    {
      "cell_type": "code",
      "source": [
        "!python3 -m pip install jax\n",
        "!pip install git+https://github.com/deepmind/dm-haiku"
      ],
      "metadata": {
        "id": "yrAb_XJSAn2Q",
        "outputId": "d15364a9-6961-4a71-fd66-8cfa604c5c4a",
        "colab": {
          "base_uri": "https://localhost:8080/"
        }
      },
      "id": "yrAb_XJSAn2Q",
      "execution_count": 3,
      "outputs": [
        {
          "output_type": "stream",
          "name": "stdout",
          "text": [
            "Requirement already satisfied: jax in /usr/local/lib/python3.7/dist-packages (0.3.4)\n",
            "Requirement already satisfied: opt-einsum in /usr/local/lib/python3.7/dist-packages (from jax) (3.3.0)\n",
            "Requirement already satisfied: numpy>=1.19 in /usr/local/lib/python3.7/dist-packages (from jax) (1.21.5)\n",
            "Requirement already satisfied: typing-extensions in /usr/local/lib/python3.7/dist-packages (from jax) (3.10.0.2)\n",
            "Requirement already satisfied: absl-py in /usr/local/lib/python3.7/dist-packages (from jax) (1.0.0)\n",
            "Requirement already satisfied: scipy>=1.2.1 in /usr/local/lib/python3.7/dist-packages (from jax) (1.4.1)\n",
            "Requirement already satisfied: six in /usr/local/lib/python3.7/dist-packages (from absl-py->jax) (1.15.0)\n",
            "Collecting git+https://github.com/deepmind/dm-haiku\n",
            "  Cloning https://github.com/deepmind/dm-haiku to /tmp/pip-req-build-mdkbn96m\n",
            "  Running command git clone -q https://github.com/deepmind/dm-haiku /tmp/pip-req-build-mdkbn96m\n",
            "Requirement already satisfied: absl-py>=0.7.1 in /usr/local/lib/python3.7/dist-packages (from dm-haiku==0.0.7.dev0) (1.0.0)\n",
            "Collecting jmp>=0.0.2\n",
            "  Downloading jmp-0.0.2-py3-none-any.whl (16 kB)\n",
            "Requirement already satisfied: numpy>=1.18.0 in /usr/local/lib/python3.7/dist-packages (from dm-haiku==0.0.7.dev0) (1.21.5)\n",
            "Requirement already satisfied: tabulate>=0.8.9 in /usr/local/lib/python3.7/dist-packages (from dm-haiku==0.0.7.dev0) (0.8.9)\n",
            "Requirement already satisfied: typing_extensions in /usr/local/lib/python3.7/dist-packages (from dm-haiku==0.0.7.dev0) (3.10.0.2)\n",
            "Requirement already satisfied: six in /usr/local/lib/python3.7/dist-packages (from absl-py>=0.7.1->dm-haiku==0.0.7.dev0) (1.15.0)\n",
            "Building wheels for collected packages: dm-haiku\n",
            "  Building wheel for dm-haiku (setup.py) ... \u001b[?25l\u001b[?25hdone\n",
            "  Created wheel for dm-haiku: filename=dm_haiku-0.0.7.dev0-py3-none-any.whl size=576219 sha256=76f4579b3d7f8b4daea30a80355bcbc842e8bc0d010b760ef30a55dd3f3563cd\n",
            "  Stored in directory: /tmp/pip-ephem-wheel-cache-emyscybh/wheels/06/28/69/ebaac5b2435641427299f29d88d005fb4e2627f4a108f0bdbc\n",
            "Successfully built dm-haiku\n",
            "Installing collected packages: jmp, dm-haiku\n",
            "Successfully installed dm-haiku-0.0.7.dev0 jmp-0.0.2\n"
          ]
        }
      ]
    },
    {
      "cell_type": "code",
      "execution_count": 4,
      "id": "c11ff740",
      "metadata": {
        "id": "c11ff740"
      },
      "outputs": [],
      "source": [
        "import jax\n",
        "import jax.numpy as jnp\n",
        "import haiku as hk"
      ]
    },
    {
      "cell_type": "markdown",
      "source": [
        "Load Data"
      ],
      "metadata": {
        "id": "urVgMMndEho8"
      },
      "id": "urVgMMndEho8"
    },
    {
      "cell_type": "code",
      "execution_count": 5,
      "id": "f678d91c",
      "metadata": {
        "id": "f678d91c",
        "outputId": "b31ac2f3-58bd-4fcc-e1f4-9cce60143c35",
        "colab": {
          "base_uri": "https://localhost:8080/"
        }
      },
      "outputs": [
        {
          "output_type": "stream",
          "name": "stderr",
          "text": [
            "/usr/local/lib/python3.7/dist-packages/sklearn/utils/deprecation.py:87: FutureWarning: Function load_boston is deprecated; `load_boston` is deprecated in 1.0 and will be removed in 1.2.\n",
            "\n",
            "    The Boston housing prices dataset has an ethical problem. You can refer to\n",
            "    the documentation of this function for further details.\n",
            "\n",
            "    The scikit-learn maintainers therefore strongly discourage the use of this\n",
            "    dataset unless the purpose of the code is to study and educate about\n",
            "    ethical issues in data science and machine learning.\n",
            "\n",
            "    In this special case, you can fetch the dataset from the original\n",
            "    source::\n",
            "\n",
            "        import pandas as pd\n",
            "        import numpy as np\n",
            "\n",
            "\n",
            "        data_url = \"http://lib.stat.cmu.edu/datasets/boston\"\n",
            "        raw_df = pd.read_csv(data_url, sep=\"\\s+\", skiprows=22, header=None)\n",
            "        data = np.hstack([raw_df.values[::2, :], raw_df.values[1::2, :2]])\n",
            "        target = raw_df.values[1::2, 2]\n",
            "\n",
            "    Alternative datasets include the California housing dataset (i.e.\n",
            "    :func:`~sklearn.datasets.fetch_california_housing`) and the Ames housing\n",
            "    dataset. You can load the datasets as follows::\n",
            "\n",
            "        from sklearn.datasets import fetch_california_housing\n",
            "        housing = fetch_california_housing()\n",
            "\n",
            "    for the California housing dataset and::\n",
            "\n",
            "        from sklearn.datasets import fetch_openml\n",
            "        housing = fetch_openml(name=\"house_prices\", as_frame=True)\n",
            "\n",
            "    for the Ames housing dataset.\n",
            "    \n",
            "  warnings.warn(msg, category=FutureWarning)\n",
            "WARNING:absl:No GPU/TPU found, falling back to CPU. (Set TF_CPP_MIN_LOG_LEVEL=0 and rerun for more info.)\n"
          ]
        },
        {
          "output_type": "execute_result",
          "data": {
            "text/plain": [
              "((404, 13), (102, 13), (404,), (102,))"
            ]
          },
          "metadata": {},
          "execution_count": 5
        }
      ],
      "source": [
        "from sklearn import datasets\n",
        "from sklearn.model_selection import train_test_split\n",
        "\n",
        "X, Y = datasets.load_boston(return_X_y=True)\n",
        "\n",
        "X_train, X_test, Y_train, Y_test = train_test_split(X, Y, train_size=0.8, random_state=123)\n",
        "\n",
        "X_train, X_test, Y_train, Y_test = jnp.array(X_train, dtype=jnp.float32),\\\n",
        "                                   jnp.array(X_test, dtype=jnp.float32),\\\n",
        "                                   jnp.array(Y_train, dtype=jnp.float32),\\\n",
        "                                   jnp.array(Y_test, dtype=jnp.float32),\\\n",
        "\n",
        "samples, features = X_train.shape\n",
        "\n",
        "X_train.shape, X_test.shape, Y_train.shape, Y_test.shape"
      ]
    },
    {
      "cell_type": "markdown",
      "source": [
        "Normalize Data"
      ],
      "metadata": {
        "id": "D8tpdiX8ErhX"
      },
      "id": "D8tpdiX8ErhX"
    },
    {
      "cell_type": "code",
      "source": [
        "mean = X_train.mean(axis=0)\n",
        "std = X_train.std(axis=0)\n",
        "\n",
        "X_train = (X_train - mean) / std\n",
        "X_test = (X_test - mean) / std"
      ],
      "metadata": {
        "id": "vEF2_Be3Elne"
      },
      "id": "vEF2_Be3Elne",
      "execution_count": 6,
      "outputs": []
    },
    {
      "cell_type": "markdown",
      "source": [
        "Define Neural Network"
      ],
      "metadata": {
        "id": "UGsA2fKdEyG4"
      },
      "id": "UGsA2fKdEyG4"
    },
    {
      "cell_type": "code",
      "source": [
        "def FeedForward(x):\n",
        "  mlp = hk.nets.MLP(output_sizes=[5,10,15,1])\n",
        "  return mlp(x)\n",
        "\n",
        "model = hk.transform(FeedForward)\n",
        "\n",
        "rng = jax.random.PRNGKey(42)\n",
        "params = model.init(rng, X_train[:5])\n",
        "preds = model.apply(params, rng, X_train)\n",
        "preds[:5]"
      ],
      "metadata": {
        "id": "G1YOfxOUEvWV",
        "outputId": "0a69d6f9-393a-4dc8-a7c7-79929af1a9cb",
        "colab": {
          "base_uri": "https://localhost:8080/"
        }
      },
      "id": "G1YOfxOUEvWV",
      "execution_count": 7,
      "outputs": [
        {
          "output_type": "execute_result",
          "data": {
            "text/plain": [
              "DeviceArray([[-0.7874111 ],\n",
              "             [-0.2776872 ],\n",
              "             [-0.01174069],\n",
              "             [-0.01407542],\n",
              "             [-0.38728935]], dtype=float32)"
            ]
          },
          "metadata": {},
          "execution_count": 7
        }
      ]
    },
    {
      "cell_type": "markdown",
      "source": [
        "Define Loss Function"
      ],
      "metadata": {
        "id": "ik5_7VnlFbNT"
      },
      "id": "ik5_7VnlFbNT"
    },
    {
      "cell_type": "code",
      "source": [
        "def MeanSquaredErrorLoss(weights, input_data, actual):\n",
        "  preds = model.apply(weights, rng, input_data)\n",
        "  preds = preds.squeeze()\n",
        "  return jnp.power(actual - preds, 2).mean()"
      ],
      "metadata": {
        "id": "1pjguYn5FXlM"
      },
      "id": "1pjguYn5FXlM",
      "execution_count": 8,
      "outputs": []
    },
    {
      "cell_type": "markdown",
      "source": [
        "Train Neural Network"
      ],
      "metadata": {
        "id": "G8uiUhNuFwdX"
      },
      "id": "G8uiUhNuFwdX"
    },
    {
      "cell_type": "code",
      "source": [
        "def UpdateWeights(weights,gradients):\n",
        "    return weights - learning_rate * gradients"
      ],
      "metadata": {
        "id": "R2prm3a1Fvnw"
      },
      "id": "R2prm3a1Fvnw",
      "execution_count": 9,
      "outputs": []
    },
    {
      "cell_type": "code",
      "source": [
        "from jax import value_and_grad\n",
        "\n",
        "rng = jax.random.PRNGKey(42) ## Reproducibility ## Initializes model with same weights each time.\n",
        "\n",
        "params = model.init(rng, X_train[:5])\n",
        "epochs = 1000\n",
        "learning_rate = jnp.array(0.001)\n",
        "\n",
        "for i in range(1, epochs+1):\n",
        "    loss, param_grads = value_and_grad(MeanSquaredErrorLoss)(params, X_train, Y_train)\n",
        "    params = jax.tree_map(UpdateWeights, params, param_grads)\n",
        "\n",
        "    if i%100 == 0:\n",
        "        print(\"MSE : {:.2f}\".format(loss))"
      ],
      "metadata": {
        "id": "c41TsqGSFu6x",
        "outputId": "aecaf1b1-6394-41fa-b089-8f7e0dd71dd5",
        "colab": {
          "base_uri": "https://localhost:8080/"
        }
      },
      "id": "c41TsqGSFu6x",
      "execution_count": 10,
      "outputs": [
        {
          "output_type": "stream",
          "name": "stdout",
          "text": [
            "MSE : 17.04\n",
            "MSE : 12.32\n",
            "MSE : 10.59\n",
            "MSE : 9.66\n",
            "MSE : 9.09\n",
            "MSE : 8.76\n",
            "MSE : 8.55\n",
            "MSE : 8.38\n",
            "MSE : 8.23\n",
            "MSE : 8.13\n"
          ]
        }
      ]
    },
    {
      "cell_type": "markdown",
      "source": [
        "Make Predictions"
      ],
      "metadata": {
        "id": "wClHDwI_JKci"
      },
      "id": "wClHDwI_JKci"
    },
    {
      "cell_type": "code",
      "source": [
        "train_preds = model.apply(params, rng, X_train)\n",
        "train_preds[:5]"
      ],
      "metadata": {
        "id": "9tqQT1YnJEVL",
        "outputId": "e6652d79-5b9b-49b4-9d66-3abd04eab01a",
        "colab": {
          "base_uri": "https://localhost:8080/"
        }
      },
      "id": "9tqQT1YnJEVL",
      "execution_count": 11,
      "outputs": [
        {
          "output_type": "execute_result",
          "data": {
            "text/plain": [
              "DeviceArray([[48.474415],\n",
              "             [11.665481],\n",
              "             [21.027842],\n",
              "             [26.18423 ],\n",
              "             [15.279279]], dtype=float32)"
            ]
          },
          "metadata": {},
          "execution_count": 11
        }
      ]
    },
    {
      "cell_type": "code",
      "source": [
        "test_preds = model.apply(params, rng, X_test)\n",
        "\n",
        "test_preds[:5]"
      ],
      "metadata": {
        "id": "eSXb9rIVJT5j",
        "outputId": "7012c11d-59fc-4ba8-b136-4b4790a1306a",
        "colab": {
          "base_uri": "https://localhost:8080/"
        }
      },
      "id": "eSXb9rIVJT5j",
      "execution_count": 12,
      "outputs": [
        {
          "output_type": "execute_result",
          "data": {
            "text/plain": [
              "DeviceArray([[20.905386],\n",
              "             [25.025269],\n",
              "             [44.169964],\n",
              "             [21.290577],\n",
              "             [29.036097]], dtype=float32)"
            ]
          },
          "metadata": {},
          "execution_count": 12
        }
      ]
    },
    {
      "cell_type": "code",
      "source": [
        "print(\"Test  MSE Score : {:.2f}\".format(MeanSquaredErrorLoss(params, X_test, Y_test)))\n",
        "print(\"Train MSE Score : {:.2f}\".format(MeanSquaredErrorLoss(params, X_train, Y_train)))"
      ],
      "metadata": {
        "id": "GJkOxWunJWGM",
        "outputId": "f96fe9d5-4672-4a3a-81a7-dbf10d4d2647",
        "colab": {
          "base_uri": "https://localhost:8080/"
        }
      },
      "id": "GJkOxWunJWGM",
      "execution_count": 13,
      "outputs": [
        {
          "output_type": "stream",
          "name": "stdout",
          "text": [
            "Test  MSE Score : 18.38\n",
            "Train MSE Score : 8.13\n"
          ]
        }
      ]
    },
    {
      "cell_type": "code",
      "source": [
        ""
      ],
      "metadata": {
        "id": "PTI9FOaQJaG1"
      },
      "id": "PTI9FOaQJaG1",
      "execution_count": null,
      "outputs": []
    }
  ],
  "metadata": {
    "kernelspec": {
      "display_name": "Python 3",
      "language": "python",
      "name": "python3"
    },
    "language_info": {
      "codemirror_mode": {
        "name": "ipython",
        "version": 3
      },
      "file_extension": ".py",
      "mimetype": "text/x-python",
      "name": "python",
      "nbconvert_exporter": "python",
      "pygments_lexer": "ipython3",
      "version": "3.7.9"
    },
    "colab": {
      "name": "mlp.ipynb",
      "provenance": []
    }
  },
  "nbformat": 4,
  "nbformat_minor": 5
}